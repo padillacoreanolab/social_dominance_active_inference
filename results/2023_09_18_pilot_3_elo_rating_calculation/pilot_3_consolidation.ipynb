{
 "cells": [
  {
   "cell_type": "markdown",
   "metadata": {
    "cell_id": "c3a02adc9e884466bc8c79db549cc3d2",
    "deepnote_cell_type": "text-cell-h1",
    "formattedRanges": [
     {
      "fromCodePoint": 0,
      "marks": {
       "bold": true,
       "underline": true
      },
      "toCodePoint": 17,
      "type": "marks"
     }
    ]
   },
   "source": [
    "# ELO Score, Weight, and RC Distance Consolidation"
   ]
  },
  {
   "cell_type": "markdown",
   "metadata": {
    "cell_id": "4546bee655b14a5dbf393161f1228e60",
    "deepnote_cell_type": "text-cell-p",
    "formattedRanges": []
   },
   "source": [
    "Brief 1-2 sentence description of notebook."
   ]
  },
  {
   "cell_type": "markdown",
   "metadata": {},
   "source": [
    "# Summary"
   ]
  },
  {
   "cell_type": "code",
   "execution_count": 1,
   "metadata": {},
   "outputs": [],
   "source": [
    "import copy\n",
    "import re\n",
    "import os\n",
    "import sys\n",
    "import string\n",
    "import glob\n",
    "import ast\n",
    "from collections import Counter\n",
    "from collections import defaultdict\n",
    "import warnings"
   ]
  },
  {
   "cell_type": "code",
   "execution_count": 2,
   "metadata": {},
   "outputs": [],
   "source": [
    "import matplotlib.pyplot as plt\n",
    "import pandas as pd"
   ]
  },
  {
   "cell_type": "code",
   "execution_count": 3,
   "metadata": {},
   "outputs": [],
   "source": [
    "import git\n",
    "# Getting the path of the root directory so that we can import repo specific functions\n",
    "git_repo_object = git.Repo('.', search_parent_directories=True)\n",
    "git_repo_directory = git_repo_object.working_tree_dir"
   ]
  },
  {
   "cell_type": "code",
   "execution_count": 4,
   "metadata": {},
   "outputs": [],
   "source": [
    "# Setting path so that we can import functions\n",
    "sys.path.append(os.path.join(git_repo_directory, \"src\"))"
   ]
  },
  {
   "cell_type": "code",
   "execution_count": 5,
   "metadata": {},
   "outputs": [
    {
     "data": {
      "text/plain": [
       "'/nancy/projects/social_dominance_active_inference/src'"
      ]
     },
     "execution_count": 5,
     "metadata": {},
     "output_type": "execute_result"
    }
   ],
   "source": [
    "os.path.join(git_repo_directory, \"src\")\n"
   ]
  },
  {
   "cell_type": "code",
   "execution_count": 6,
   "metadata": {},
   "outputs": [],
   "source": [
    "from elorating import calculation\n",
    "from elorating import dataframe"
   ]
  },
  {
   "cell_type": "code",
   "execution_count": 7,
   "metadata": {},
   "outputs": [],
   "source": [
    "# Increase size of plot in jupyter\n",
    "\n",
    "plt.rcParams[\"figure.figsize\"] = (18,10)"
   ]
  },
  {
   "cell_type": "markdown",
   "metadata": {
    "cell_id": "d290bac2c17940bfbc0f9296beaf70e5",
    "deepnote_cell_type": "text-cell-h2",
    "formattedRanges": []
   },
   "source": [
    "## Inputs & Data"
   ]
  },
  {
   "cell_type": "markdown",
   "metadata": {
    "cell_id": "e528ce19c608425292151930d380f49f",
    "deepnote_cell_type": "text-cell-p",
    "formattedRanges": []
   },
   "source": [
    "Explanation of each input and where it comes from."
   ]
  },
  {
   "cell_type": "code",
   "execution_count": 8,
   "metadata": {
    "cell_id": "6cf83a5811054461a718a71673d09aab",
    "deepnote_cell_type": "code",
    "deepnote_to_be_reexecuted": false,
    "execution_millis": 373,
    "execution_start": 1691424003628,
    "source_hash": null
   },
   "outputs": [],
   "source": [
    "# Inputs and Required data loading\n",
    "# input varaible names are in all caps snake case\n",
    "# Whenever an input changes or is used for processing \n",
    "# the vairables are all lower in snake case\n",
    "OUTPUT_DIR = r\"/root/work/\" # where data is saved should always be shown in the inputs"
   ]
  },
  {
   "cell_type": "markdown",
   "metadata": {
    "cell_id": "d290bac2c17940bfbc0f9296beaf70e5",
    "deepnote_cell_type": "text-cell-h2",
    "formattedRanges": []
   },
   "source": [
    "## Inputs & Data"
   ]
  },
  {
   "cell_type": "markdown",
   "metadata": {
    "cell_id": "e528ce19c608425292151930d380f49f",
    "deepnote_cell_type": "text-cell-p",
    "formattedRanges": []
   },
   "source": [
    "Explanation of each input and where it comes from."
   ]
  },
  {
   "cell_type": "code",
   "execution_count": 9,
   "metadata": {
    "cell_id": "6cf83a5811054461a718a71673d09aab",
    "deepnote_cell_type": "code",
    "deepnote_to_be_reexecuted": false,
    "execution_millis": 373,
    "execution_start": 1691424003628,
    "source_hash": null
   },
   "outputs": [],
   "source": [
    "# Inputs and Required data loading\n",
    "# input varaible names are in all caps snake case\n",
    "# Whenever an input changes or is used for processing \n",
    "# the vairables are all lower in snake case\n",
    "OUTPUT_DIR = r\"./proc\" # where data is saved should always be shown in the inputs"
   ]
  },
  {
   "cell_type": "code",
   "execution_count": 10,
   "metadata": {},
   "outputs": [],
   "source": [
    "WEIGHTS_PATH = \"../../data/pilot_3/Reward_Training_Weights_C57vsCD1_Pilot3.csv\"\n",
    "ELO_RATING_HISTORY_GLOB = glob.glob(\"./proc/elo_rating_spread_sheets/*/*elo-rating-history.csv\") \n",
    "\n",
    "PAIRED_RC = pd.read_csv(\"./proc/elo_rating_spread_sheets/reward_competition/reward_competition_grouped_by_pairs_cage_1_2_3_4_5_6_date_20221003_20221004.csv\", index_col=0)\n",
    "PAIRED_TT = pd.read_csv(\"./proc/elo_rating_spread_sheets/tube_test/tt_grouped_by_pairs_cage_cages-1-2-3-4-5-6_date_2022-09-06_2022-09-27.csv\", index_col=0)\n",
    "PAIRED_HCO = pd.read_csv(\"./proc/elo_rating_spread_sheets/home_cage_observation/hco_grouped_by_pairs_cage_cages-2-4-5_date_2022-09-07_2022-10-05.csv\", index_col=0)\n",
    "RC_DISTANCE_DF = pd.read_pickle(\"../2023_09_18_rc_sleap_analysis/per_trial_rc_distance.pkl\")"
   ]
  },
  {
   "cell_type": "markdown",
   "metadata": {
    "cell_id": "e3ee4891d43a4ac287413afc552ca289",
    "deepnote_cell_type": "text-cell-h2",
    "formattedRanges": []
   },
   "source": [
    "## Outputs"
   ]
  },
  {
   "cell_type": "markdown",
   "metadata": {
    "cell_id": "9ccbf6cc70fd4d379fa29317f733771f",
    "deepnote_cell_type": "text-cell-p",
    "formattedRanges": []
   },
   "source": [
    "Describe each output that the notebook creates. "
   ]
  },
  {
   "cell_type": "markdown",
   "metadata": {
    "cell_id": "fc8e8920a6944918a15fac575cdf6e78",
    "deepnote_cell_type": "text-cell-bullet",
    "formattedRanges": []
   },
   "source": [
    "- Is it a plot or is it data?"
   ]
  },
  {
   "cell_type": "markdown",
   "metadata": {
    "cell_id": "1e639d4776a84aa9ac8ded2e14fa57db",
    "deepnote_cell_type": "text-cell-bullet",
    "formattedRanges": []
   },
   "source": [
    "- How valuable is the output and why is it valuable or useful?"
   ]
  },
  {
   "cell_type": "code",
   "execution_count": null,
   "metadata": {},
   "outputs": [],
   "source": []
  },
  {
   "cell_type": "markdown",
   "metadata": {
    "cell_id": "8999d19b6b7d4d63bc90f0b0bd9ab085",
    "deepnote_cell_type": "text-cell-h2",
    "formattedRanges": []
   },
   "source": [
    "## Processing"
   ]
  },
  {
   "cell_type": "markdown",
   "metadata": {
    "cell_id": "9b36cdf08567463082b005cb0dec684b",
    "deepnote_cell_type": "text-cell-p",
    "formattedRanges": []
   },
   "source": [
    "Describe what is done to the data here and how inputs are manipulated to generate outputs. "
   ]
  },
  {
   "cell_type": "code",
   "execution_count": 11,
   "metadata": {
    "cell_id": "89aaba237c644628b1b37604b75e7cb1",
    "deepnote_cell_type": "code"
   },
   "outputs": [],
   "source": [
    "# As much code and as many cells as required\n",
    "# includes EDA and playing with data\n",
    "# GO HAM!\n",
    "\n",
    "# Ideally functions are defined here first and then data is processed using the functions\n",
    "\n",
    "# function names are short and in snake case all lowercase\n",
    "# a function name should be unique but does not have to describe the function\n",
    "# doc strings describe functions not function names\n",
    "\n"
   ]
  },
  {
   "cell_type": "markdown",
   "metadata": {},
   "source": [
    "- Reading in the spreadsheets with the animal's weights"
   ]
  },
  {
   "cell_type": "code",
   "execution_count": 12,
   "metadata": {},
   "outputs": [],
   "source": [
    "# weights_df = pd.read_excel(RAW_DATA_FILE_PATH, header=[0])\n",
    "weights_df = pd.read_csv(WEIGHTS_PATH, header=[0,1])\n",
    "weights_df = weights_df.set_index([('cage', 'cage'), ('id', 'id')])\n",
    "# Stacking the level 0 of the columns (Group1, Group2), \n",
    "# which will move it to the index, creating a new row for each unique value in level 0\n",
    "weights_df = weights_df.stack(level=1)\n",
    "weights_df = weights_df.reset_index()\n",
    "weights_df = weights_df.rename(columns={'level_2': 'date'})\n",
    "weights_df[\"date\"] = pd.to_datetime(weights_df[\"date\"], format='%m/%d/%Y')\n",
    "weights_df = weights_df.rename(columns={('cage', 'cage'): \"cage\", ('id', 'id'): \"id\"})\n",
    "weights_df = weights_df.sort_values(by=[\"date\", \"cage\", \"id\"])\n",
    "weights_df = weights_df.reset_index(drop=True)"
   ]
  },
  {
   "cell_type": "code",
   "execution_count": 13,
   "metadata": {},
   "outputs": [
    {
     "data": {
      "text/plain": [
       "Index(['cage', 'id', 'date', 'weight', 'percent_body_weight', 'amount_fed',\n",
       "       'Notes'],\n",
       "      dtype='object')"
      ]
     },
     "execution_count": 13,
     "metadata": {},
     "output_type": "execute_result"
    }
   ],
   "source": [
    "weights_df.columns"
   ]
  },
  {
   "cell_type": "code",
   "execution_count": 14,
   "metadata": {},
   "outputs": [],
   "source": [
    "weight_col = ['id', 'weight', 'percent_body_weight', 'amount_fed']"
   ]
  },
  {
   "cell_type": "code",
   "execution_count": 15,
   "metadata": {},
   "outputs": [],
   "source": [
    "subject_weights_df = weights_df.copy()\n",
    "subject_weights_df.columns = [\"subject_{}\".format(col) if col in weight_col else col for col in subject_weights_df.columns ]\n",
    "\n",
    "agent_weights_df = weights_df.copy()\n",
    "agent_weights_df.columns = [\"agent_{}\".format(col) if col in weight_col else col for col in agent_weights_df.columns  ]"
   ]
  },
  {
   "cell_type": "code",
   "execution_count": 16,
   "metadata": {},
   "outputs": [
    {
     "data": {
      "text/html": [
       "<div>\n",
       "<style scoped>\n",
       "    .dataframe tbody tr th:only-of-type {\n",
       "        vertical-align: middle;\n",
       "    }\n",
       "\n",
       "    .dataframe tbody tr th {\n",
       "        vertical-align: top;\n",
       "    }\n",
       "\n",
       "    .dataframe thead th {\n",
       "        text-align: right;\n",
       "    }\n",
       "</style>\n",
       "<table border=\"1\" class=\"dataframe\">\n",
       "  <thead>\n",
       "    <tr style=\"text-align: right;\">\n",
       "      <th></th>\n",
       "      <th>cage</th>\n",
       "      <th>subject_id</th>\n",
       "      <th>date</th>\n",
       "      <th>subject_weight</th>\n",
       "      <th>subject_percent_body_weight</th>\n",
       "      <th>subject_amount_fed</th>\n",
       "      <th>Notes</th>\n",
       "    </tr>\n",
       "  </thead>\n",
       "  <tbody>\n",
       "    <tr>\n",
       "      <th>0</th>\n",
       "      <td>1</td>\n",
       "      <td>1.1</td>\n",
       "      <td>2022-09-18</td>\n",
       "      <td>26.0</td>\n",
       "      <td>1.0</td>\n",
       "      <td>5.0</td>\n",
       "      <td>NaN</td>\n",
       "    </tr>\n",
       "    <tr>\n",
       "      <th>1</th>\n",
       "      <td>1</td>\n",
       "      <td>1.2</td>\n",
       "      <td>2022-09-18</td>\n",
       "      <td>25.2</td>\n",
       "      <td>1.0</td>\n",
       "      <td>5.0</td>\n",
       "      <td>NaN</td>\n",
       "    </tr>\n",
       "    <tr>\n",
       "      <th>2</th>\n",
       "      <td>1</td>\n",
       "      <td>1.3</td>\n",
       "      <td>2022-09-18</td>\n",
       "      <td>24.8</td>\n",
       "      <td>1.0</td>\n",
       "      <td>5.0</td>\n",
       "      <td>NaN</td>\n",
       "    </tr>\n",
       "    <tr>\n",
       "      <th>3</th>\n",
       "      <td>1</td>\n",
       "      <td>1.4</td>\n",
       "      <td>2022-09-18</td>\n",
       "      <td>24.7</td>\n",
       "      <td>1.0</td>\n",
       "      <td>5.0</td>\n",
       "      <td>NaN</td>\n",
       "    </tr>\n",
       "    <tr>\n",
       "      <th>4</th>\n",
       "      <td>2</td>\n",
       "      <td>2.1</td>\n",
       "      <td>2022-09-18</td>\n",
       "      <td>29.5</td>\n",
       "      <td>1.0</td>\n",
       "      <td>5.0</td>\n",
       "      <td>NaN</td>\n",
       "    </tr>\n",
       "  </tbody>\n",
       "</table>\n",
       "</div>"
      ],
      "text/plain": [
       "   cage  subject_id       date  subject_weight  subject_percent_body_weight  \\\n",
       "0     1         1.1 2022-09-18            26.0                          1.0   \n",
       "1     1         1.2 2022-09-18            25.2                          1.0   \n",
       "2     1         1.3 2022-09-18            24.8                          1.0   \n",
       "3     1         1.4 2022-09-18            24.7                          1.0   \n",
       "4     2         2.1 2022-09-18            29.5                          1.0   \n",
       "\n",
       "   subject_amount_fed Notes  \n",
       "0                 5.0   NaN  \n",
       "1                 5.0   NaN  \n",
       "2                 5.0   NaN  \n",
       "3                 5.0   NaN  \n",
       "4                 5.0   NaN  "
      ]
     },
     "execution_count": 16,
     "metadata": {},
     "output_type": "execute_result"
    }
   ],
   "source": [
    "subject_weights_df.head()"
   ]
  },
  {
   "cell_type": "code",
   "execution_count": 17,
   "metadata": {},
   "outputs": [
    {
     "data": {
      "text/html": [
       "<div>\n",
       "<style scoped>\n",
       "    .dataframe tbody tr th:only-of-type {\n",
       "        vertical-align: middle;\n",
       "    }\n",
       "\n",
       "    .dataframe tbody tr th {\n",
       "        vertical-align: top;\n",
       "    }\n",
       "\n",
       "    .dataframe thead th {\n",
       "        text-align: right;\n",
       "    }\n",
       "</style>\n",
       "<table border=\"1\" class=\"dataframe\">\n",
       "  <thead>\n",
       "    <tr style=\"text-align: right;\">\n",
       "      <th></th>\n",
       "      <th>cage</th>\n",
       "      <th>agent_id</th>\n",
       "      <th>date</th>\n",
       "      <th>agent_weight</th>\n",
       "      <th>agent_percent_body_weight</th>\n",
       "      <th>agent_amount_fed</th>\n",
       "      <th>Notes</th>\n",
       "    </tr>\n",
       "  </thead>\n",
       "  <tbody>\n",
       "    <tr>\n",
       "      <th>0</th>\n",
       "      <td>1</td>\n",
       "      <td>1.1</td>\n",
       "      <td>2022-09-18</td>\n",
       "      <td>26.0</td>\n",
       "      <td>1.0</td>\n",
       "      <td>5.0</td>\n",
       "      <td>NaN</td>\n",
       "    </tr>\n",
       "    <tr>\n",
       "      <th>1</th>\n",
       "      <td>1</td>\n",
       "      <td>1.2</td>\n",
       "      <td>2022-09-18</td>\n",
       "      <td>25.2</td>\n",
       "      <td>1.0</td>\n",
       "      <td>5.0</td>\n",
       "      <td>NaN</td>\n",
       "    </tr>\n",
       "    <tr>\n",
       "      <th>2</th>\n",
       "      <td>1</td>\n",
       "      <td>1.3</td>\n",
       "      <td>2022-09-18</td>\n",
       "      <td>24.8</td>\n",
       "      <td>1.0</td>\n",
       "      <td>5.0</td>\n",
       "      <td>NaN</td>\n",
       "    </tr>\n",
       "    <tr>\n",
       "      <th>3</th>\n",
       "      <td>1</td>\n",
       "      <td>1.4</td>\n",
       "      <td>2022-09-18</td>\n",
       "      <td>24.7</td>\n",
       "      <td>1.0</td>\n",
       "      <td>5.0</td>\n",
       "      <td>NaN</td>\n",
       "    </tr>\n",
       "    <tr>\n",
       "      <th>4</th>\n",
       "      <td>2</td>\n",
       "      <td>2.1</td>\n",
       "      <td>2022-09-18</td>\n",
       "      <td>29.5</td>\n",
       "      <td>1.0</td>\n",
       "      <td>5.0</td>\n",
       "      <td>NaN</td>\n",
       "    </tr>\n",
       "  </tbody>\n",
       "</table>\n",
       "</div>"
      ],
      "text/plain": [
       "   cage  agent_id       date  agent_weight  agent_percent_body_weight  \\\n",
       "0     1       1.1 2022-09-18          26.0                        1.0   \n",
       "1     1       1.2 2022-09-18          25.2                        1.0   \n",
       "2     1       1.3 2022-09-18          24.8                        1.0   \n",
       "3     1       1.4 2022-09-18          24.7                        1.0   \n",
       "4     2       2.1 2022-09-18          29.5                        1.0   \n",
       "\n",
       "   agent_amount_fed Notes  \n",
       "0               5.0   NaN  \n",
       "1               5.0   NaN  \n",
       "2               5.0   NaN  \n",
       "3               5.0   NaN  \n",
       "4               5.0   NaN  "
      ]
     },
     "execution_count": 17,
     "metadata": {},
     "output_type": "execute_result"
    }
   ],
   "source": [
    "agent_weights_df.head()"
   ]
  },
  {
   "cell_type": "markdown",
   "metadata": {},
   "source": [
    "- Reading in all the ELO Score dataframes"
   ]
  },
  {
   "cell_type": "code",
   "execution_count": 18,
   "metadata": {},
   "outputs": [],
   "source": [
    "all_elo_score_history_df = []\n",
    "for path in ELO_RATING_HISTORY_GLOB:\n",
    "    all_elo_score_history_df.append(pd.read_csv(path, index_col=0))\n",
    "all_elo_score_history_df = pd.concat(all_elo_score_history_df)\n",
    "all_elo_score_history_df[\"date\"] = pd.to_datetime(all_elo_score_history_df[\"date\"], format='%Y-%m-%d')\n",
    "all_elo_score_history_df = all_elo_score_history_df.sort_values(by=[\"date\", \"total_match_number\"])\n",
    "all_elo_score_history_df = all_elo_score_history_df.reset_index(drop=True)"
   ]
  },
  {
   "cell_type": "code",
   "execution_count": 19,
   "metadata": {},
   "outputs": [
    {
     "data": {
      "text/plain": [
       "Index(['total_trial_number', 'total_match_number', 'subject_id', 'agent_id',\n",
       "       'original_elo_rating', 'updated_elo_rating', 'win_draw_loss',\n",
       "       'subject_ranking', 'agent_ranking', 'pairing_index', 'index', 'date',\n",
       "       'cage', 'box', 'match', 'tuple_animal_id', 'trial', 'winner',\n",
       "       'keep_row', 'match_is_tie', 'trial_number', 'loser',\n",
       "       'session_number_difference', 'strain', 'experiment_type', 'observer',\n",
       "       'notes', 'length_of_observations', 'cage_#', 'action', 'sheet_name',\n",
       "       'left_number_of_spots', 'right_number_of_spots',\n",
       "       'spot_number_difference', 'percent_difference', 'runner'],\n",
       "      dtype='object')"
      ]
     },
     "execution_count": 19,
     "metadata": {},
     "output_type": "execute_result"
    }
   ],
   "source": [
    "all_elo_score_history_df.columns"
   ]
  },
  {
   "cell_type": "code",
   "execution_count": 20,
   "metadata": {},
   "outputs": [],
   "source": [
    "all_elo_score_history_df = pd.merge(left=all_elo_score_history_df, right=subject_weights_df, left_on=[\"subject_id\", \"date\"], right_on=[\"subject_id\", \"date\"], how=\"left\")\n",
    "\n",
    "all_elo_score_history_df = pd.merge(left=all_elo_score_history_df, right=agent_weights_df, left_on=[\"agent_id\", \"date\"], right_on=[\"agent_id\", \"date\"], how=\"left\")\n"
   ]
  },
  {
   "cell_type": "code",
   "execution_count": 21,
   "metadata": {},
   "outputs": [
    {
     "data": {
      "text/plain": [
       "Index(['total_trial_number', 'total_match_number', 'subject_id', 'agent_id',\n",
       "       'original_elo_rating', 'updated_elo_rating', 'win_draw_loss',\n",
       "       'subject_ranking', 'agent_ranking', 'pairing_index', 'index', 'date',\n",
       "       'cage_x', 'box', 'match', 'tuple_animal_id', 'trial', 'winner',\n",
       "       'keep_row', 'match_is_tie', 'trial_number', 'loser',\n",
       "       'session_number_difference', 'strain', 'experiment_type', 'observer',\n",
       "       'notes', 'length_of_observations', 'cage_#', 'action', 'sheet_name',\n",
       "       'left_number_of_spots', 'right_number_of_spots',\n",
       "       'spot_number_difference', 'percent_difference', 'runner', 'cage_y',\n",
       "       'subject_weight', 'subject_percent_body_weight', 'subject_amount_fed',\n",
       "       'Notes_x', 'cage', 'agent_weight', 'agent_percent_body_weight',\n",
       "       'agent_amount_fed', 'Notes_y'],\n",
       "      dtype='object')"
      ]
     },
     "execution_count": 21,
     "metadata": {},
     "output_type": "execute_result"
    }
   ],
   "source": [
    "all_elo_score_history_df.columns"
   ]
  },
  {
   "cell_type": "code",
   "execution_count": 22,
   "metadata": {},
   "outputs": [],
   "source": [
    "all_elo_score_history_df = pd.merge(left=all_elo_score_history_df, right=PAIRED_HCO, left_on=\"tuple_animal_id\", right_on=\"hco_tuple_animal_id\", how=\"left\")\n",
    "all_elo_score_history_df = pd.merge(left=all_elo_score_history_df, right=PAIRED_RC, left_on=\"tuple_animal_id\", right_on=\"rc_tuple_animal_id\", how=\"left\")\n",
    "all_elo_score_history_df = pd.merge(left=all_elo_score_history_df, right=PAIRED_TT, left_on=\"tuple_animal_id\", right_on=\"tt_tuple_animal_id\", how=\"left\")"
   ]
  },
  {
   "cell_type": "markdown",
   "metadata": {},
   "source": [
    "- Removing unnecessary rows"
   ]
  },
  {
   "cell_type": "code",
   "execution_count": 23,
   "metadata": {},
   "outputs": [],
   "source": [
    "all_elo_score_history_df = all_elo_score_history_df.drop(columns=[\"total_match_number\", \"total_trial_number\", \"index\", \"cage_x\", \"box\", \"match\", \"keep_row\", \"session_number_difference\", \"observer\", \"notes\", \"length_of_observations\", \"sheet_name\", \"runner\", \"cage_y\", \"cage\", \"Notes_y\", \"Notes_x\", 'processed_cage_number', 'match_is_tie', 'trial'], errors=\"ignore\")"
   ]
  },
  {
   "cell_type": "code",
   "execution_count": 24,
   "metadata": {},
   "outputs": [
    {
     "data": {
      "text/plain": [
       "Index(['subject_id', 'agent_id', 'original_elo_rating', 'updated_elo_rating',\n",
       "       'win_draw_loss', 'subject_ranking', 'agent_ranking', 'pairing_index',\n",
       "       'date', 'tuple_animal_id', 'winner', 'trial_number', 'loser', 'strain',\n",
       "       'experiment_type', 'cage_#', 'action', 'left_number_of_spots',\n",
       "       'right_number_of_spots', 'spot_number_difference', 'percent_difference',\n",
       "       'subject_weight', 'subject_percent_body_weight', 'subject_amount_fed',\n",
       "       'agent_weight', 'agent_percent_body_weight', 'agent_amount_fed',\n",
       "       'hco_tuple_animal_id', 'hco_winner', 'hco_loser', 'hco_averaged_winner',\n",
       "       'hco_averaged_loser', 'hco_averaged_winner_win_count',\n",
       "       'hco_averaged_loser_win_count', 'hco_count_difference',\n",
       "       'hco_match_count', 'hco_percent_win', 'hco_percentage_tie',\n",
       "       'rc_tuple_animal_id', 'rc_winner', 'rc_loser',\n",
       "       'rc_average_number_of_switches', 'rc_winner_no_ties',\n",
       "       'rc_loser_no_ties', 'rc_averaged_winner', 'rc_averaged_loser',\n",
       "       'rc_averaged_winner_win_count', 'rc_averaged_loser_win_count',\n",
       "       'rc_tie_count', 'rc_all_match_count_including_ties',\n",
       "       'rc_averaged_winner_win_count_minus_loser_win_count',\n",
       "       'rc_win_to_win_plus_lost_ratio', 'rc_win_to_all_ratio',\n",
       "       'rc_is_win_to_win_and_loss_ratio_tie', 'rc_tie_to_all_ratio',\n",
       "       'tt_tuple_animal_id', 'tt_winner', 'tt_loser', 'tt_averaged_winner',\n",
       "       'tt_averaged_loser', 'tt_averaged_winner_win_count',\n",
       "       'tt_averaged_loser_win_count', 'tt_count_difference', 'tt_match_count',\n",
       "       'tt_percent_win', 'tt_percentage_tie'],\n",
       "      dtype='object')"
      ]
     },
     "execution_count": 24,
     "metadata": {},
     "output_type": "execute_result"
    }
   ],
   "source": [
    "all_elo_score_history_df.columns"
   ]
  },
  {
   "cell_type": "markdown",
   "metadata": {},
   "source": [
    "- Reordering columns"
   ]
  },
  {
   "cell_type": "code",
   "execution_count": 25,
   "metadata": {},
   "outputs": [],
   "source": [
    "# Step 2: Specify the columns to move to the left\n",
    "cols_to_move = ['strain', 'experiment_type', 'date', 'cage_#', 'tuple_animal_id', 'subject_id', 'agent_id', \n",
    "                'winner', 'loser', 'win_draw_loss', 'original_elo_rating', 'updated_elo_rating', \n",
    "                'subject_ranking', 'agent_ranking',  'subject_weight', 'subject_percent_body_weight',\n",
    "                'subject_amount_fed', 'agent_weight', 'agent_percent_body_weight', 'agent_amount_fed']\n",
    "\n",
    "# Step 3: Get the list of other columns\n",
    "other_cols = [col for col in all_elo_score_history_df.columns if col not in cols_to_move]\n",
    "\n",
    "# Step 4: Concatenate the lists to get the new column order\n",
    "new_col_order = cols_to_move + other_cols\n"
   ]
  },
  {
   "cell_type": "code",
   "execution_count": 26,
   "metadata": {},
   "outputs": [],
   "source": [
    "all_elo_score_history_df = all_elo_score_history_df[new_col_order]"
   ]
  },
  {
   "cell_type": "code",
   "execution_count": 27,
   "metadata": {
    "scrolled": true
   },
   "outputs": [
    {
     "data": {
      "text/html": [
       "<div>\n",
       "<style scoped>\n",
       "    .dataframe tbody tr th:only-of-type {\n",
       "        vertical-align: middle;\n",
       "    }\n",
       "\n",
       "    .dataframe tbody tr th {\n",
       "        vertical-align: top;\n",
       "    }\n",
       "\n",
       "    .dataframe thead th {\n",
       "        text-align: right;\n",
       "    }\n",
       "</style>\n",
       "<table border=\"1\" class=\"dataframe\">\n",
       "  <thead>\n",
       "    <tr style=\"text-align: right;\">\n",
       "      <th></th>\n",
       "      <th>strain</th>\n",
       "      <th>experiment_type</th>\n",
       "      <th>date</th>\n",
       "      <th>cage_#</th>\n",
       "      <th>tuple_animal_id</th>\n",
       "      <th>subject_id</th>\n",
       "      <th>agent_id</th>\n",
       "      <th>winner</th>\n",
       "      <th>loser</th>\n",
       "      <th>win_draw_loss</th>\n",
       "      <th>...</th>\n",
       "      <th>tt_winner</th>\n",
       "      <th>tt_loser</th>\n",
       "      <th>tt_averaged_winner</th>\n",
       "      <th>tt_averaged_loser</th>\n",
       "      <th>tt_averaged_winner_win_count</th>\n",
       "      <th>tt_averaged_loser_win_count</th>\n",
       "      <th>tt_count_difference</th>\n",
       "      <th>tt_match_count</th>\n",
       "      <th>tt_percent_win</th>\n",
       "      <th>tt_percentage_tie</th>\n",
       "    </tr>\n",
       "  </thead>\n",
       "  <tbody>\n",
       "    <tr>\n",
       "      <th>0</th>\n",
       "      <td>C57</td>\n",
       "      <td>tube_test</td>\n",
       "      <td>2022-09-06</td>\n",
       "      <td>1.0</td>\n",
       "      <td>('1.1', '1.2')</td>\n",
       "      <td>1.1</td>\n",
       "      <td>1.2</td>\n",
       "      <td>1.1</td>\n",
       "      <td>1.2</td>\n",
       "      <td>1.0</td>\n",
       "      <td>...</td>\n",
       "      <td>['1.1', '1.1', '1.1', '1.1', '1.1', '1.1', '1....</td>\n",
       "      <td>['1.2', '1.2', '1.2', '1.2', '1.2', '1.2', '1....</td>\n",
       "      <td>1.1</td>\n",
       "      <td>1.2</td>\n",
       "      <td>8</td>\n",
       "      <td>0</td>\n",
       "      <td>8</td>\n",
       "      <td>8</td>\n",
       "      <td>1.000</td>\n",
       "      <td>False</td>\n",
       "    </tr>\n",
       "    <tr>\n",
       "      <th>1</th>\n",
       "      <td>C57</td>\n",
       "      <td>tube_test</td>\n",
       "      <td>2022-09-06</td>\n",
       "      <td>1.0</td>\n",
       "      <td>('1.1', '1.2')</td>\n",
       "      <td>1.2</td>\n",
       "      <td>1.1</td>\n",
       "      <td>1.1</td>\n",
       "      <td>1.2</td>\n",
       "      <td>0.0</td>\n",
       "      <td>...</td>\n",
       "      <td>['1.1', '1.1', '1.1', '1.1', '1.1', '1.1', '1....</td>\n",
       "      <td>['1.2', '1.2', '1.2', '1.2', '1.2', '1.2', '1....</td>\n",
       "      <td>1.1</td>\n",
       "      <td>1.2</td>\n",
       "      <td>8</td>\n",
       "      <td>0</td>\n",
       "      <td>8</td>\n",
       "      <td>8</td>\n",
       "      <td>1.000</td>\n",
       "      <td>False</td>\n",
       "    </tr>\n",
       "    <tr>\n",
       "      <th>2</th>\n",
       "      <td>C57</td>\n",
       "      <td>tube_test</td>\n",
       "      <td>2022-09-06</td>\n",
       "      <td>2.0</td>\n",
       "      <td>('2.1', '2.2')</td>\n",
       "      <td>2.1</td>\n",
       "      <td>2.2</td>\n",
       "      <td>2.1</td>\n",
       "      <td>2.2</td>\n",
       "      <td>1.0</td>\n",
       "      <td>...</td>\n",
       "      <td>['2.1', '2.1', '2.1', '2.1', '2.1', '2.1', '2....</td>\n",
       "      <td>['2.2', '2.2', '2.2', '2.2', '2.2', '2.2', '2....</td>\n",
       "      <td>2.1</td>\n",
       "      <td>2.2</td>\n",
       "      <td>7</td>\n",
       "      <td>1</td>\n",
       "      <td>6</td>\n",
       "      <td>8</td>\n",
       "      <td>0.875</td>\n",
       "      <td>False</td>\n",
       "    </tr>\n",
       "    <tr>\n",
       "      <th>3</th>\n",
       "      <td>C57</td>\n",
       "      <td>tube_test</td>\n",
       "      <td>2022-09-06</td>\n",
       "      <td>2.0</td>\n",
       "      <td>('2.1', '2.2')</td>\n",
       "      <td>2.2</td>\n",
       "      <td>2.1</td>\n",
       "      <td>2.1</td>\n",
       "      <td>2.2</td>\n",
       "      <td>0.0</td>\n",
       "      <td>...</td>\n",
       "      <td>['2.1', '2.1', '2.1', '2.1', '2.1', '2.1', '2....</td>\n",
       "      <td>['2.2', '2.2', '2.2', '2.2', '2.2', '2.2', '2....</td>\n",
       "      <td>2.1</td>\n",
       "      <td>2.2</td>\n",
       "      <td>7</td>\n",
       "      <td>1</td>\n",
       "      <td>6</td>\n",
       "      <td>8</td>\n",
       "      <td>0.875</td>\n",
       "      <td>False</td>\n",
       "    </tr>\n",
       "    <tr>\n",
       "      <th>4</th>\n",
       "      <td>C57</td>\n",
       "      <td>tube_test</td>\n",
       "      <td>2022-09-06</td>\n",
       "      <td>3.0</td>\n",
       "      <td>('3.1', '3.2')</td>\n",
       "      <td>3.2</td>\n",
       "      <td>3.1</td>\n",
       "      <td>3.2</td>\n",
       "      <td>3.1</td>\n",
       "      <td>1.0</td>\n",
       "      <td>...</td>\n",
       "      <td>['3.2', '3.2', '3.2', '3.2', '3.2', '3.2', '3....</td>\n",
       "      <td>['3.1', '3.1', '3.1', '3.1', '3.1', '3.1', '3....</td>\n",
       "      <td>3.2</td>\n",
       "      <td>3.1</td>\n",
       "      <td>8</td>\n",
       "      <td>0</td>\n",
       "      <td>8</td>\n",
       "      <td>8</td>\n",
       "      <td>1.000</td>\n",
       "      <td>False</td>\n",
       "    </tr>\n",
       "  </tbody>\n",
       "</table>\n",
       "<p>5 rows × 66 columns</p>\n",
       "</div>"
      ],
      "text/plain": [
       "  strain experiment_type       date  cage_# tuple_animal_id  subject_id  \\\n",
       "0    C57       tube_test 2022-09-06     1.0  ('1.1', '1.2')         1.1   \n",
       "1    C57       tube_test 2022-09-06     1.0  ('1.1', '1.2')         1.2   \n",
       "2    C57       tube_test 2022-09-06     2.0  ('2.1', '2.2')         2.1   \n",
       "3    C57       tube_test 2022-09-06     2.0  ('2.1', '2.2')         2.2   \n",
       "4    C57       tube_test 2022-09-06     3.0  ('3.1', '3.2')         3.2   \n",
       "\n",
       "   agent_id  winner  loser  win_draw_loss  ...  \\\n",
       "0       1.2     1.1    1.2            1.0  ...   \n",
       "1       1.1     1.1    1.2            0.0  ...   \n",
       "2       2.2     2.1    2.2            1.0  ...   \n",
       "3       2.1     2.1    2.2            0.0  ...   \n",
       "4       3.1     3.2    3.1            1.0  ...   \n",
       "\n",
       "                                           tt_winner  \\\n",
       "0  ['1.1', '1.1', '1.1', '1.1', '1.1', '1.1', '1....   \n",
       "1  ['1.1', '1.1', '1.1', '1.1', '1.1', '1.1', '1....   \n",
       "2  ['2.1', '2.1', '2.1', '2.1', '2.1', '2.1', '2....   \n",
       "3  ['2.1', '2.1', '2.1', '2.1', '2.1', '2.1', '2....   \n",
       "4  ['3.2', '3.2', '3.2', '3.2', '3.2', '3.2', '3....   \n",
       "\n",
       "                                            tt_loser  tt_averaged_winner  \\\n",
       "0  ['1.2', '1.2', '1.2', '1.2', '1.2', '1.2', '1....                 1.1   \n",
       "1  ['1.2', '1.2', '1.2', '1.2', '1.2', '1.2', '1....                 1.1   \n",
       "2  ['2.2', '2.2', '2.2', '2.2', '2.2', '2.2', '2....                 2.1   \n",
       "3  ['2.2', '2.2', '2.2', '2.2', '2.2', '2.2', '2....                 2.1   \n",
       "4  ['3.1', '3.1', '3.1', '3.1', '3.1', '3.1', '3....                 3.2   \n",
       "\n",
       "   tt_averaged_loser  tt_averaged_winner_win_count  \\\n",
       "0                1.2                             8   \n",
       "1                1.2                             8   \n",
       "2                2.2                             7   \n",
       "3                2.2                             7   \n",
       "4                3.1                             8   \n",
       "\n",
       "   tt_averaged_loser_win_count  tt_count_difference  tt_match_count  \\\n",
       "0                            0                    8               8   \n",
       "1                            0                    8               8   \n",
       "2                            1                    6               8   \n",
       "3                            1                    6               8   \n",
       "4                            0                    8               8   \n",
       "\n",
       "   tt_percent_win  tt_percentage_tie  \n",
       "0           1.000              False  \n",
       "1           1.000              False  \n",
       "2           0.875              False  \n",
       "3           0.875              False  \n",
       "4           1.000              False  \n",
       "\n",
       "[5 rows x 66 columns]"
      ]
     },
     "execution_count": 27,
     "metadata": {},
     "output_type": "execute_result"
    }
   ],
   "source": [
    "all_elo_score_history_df.head()"
   ]
  },
  {
   "cell_type": "markdown",
   "metadata": {},
   "source": [
    "# Merging the RC Distance plots"
   ]
  },
  {
   "cell_type": "code",
   "execution_count": 28,
   "metadata": {},
   "outputs": [],
   "source": [
    "# Changing column type to make it mergable\n",
    "all_elo_score_history_df[\"tuple_animal_id\"] = all_elo_score_history_df[\"tuple_animal_id\"].apply(lambda x: ast.literal_eval(x))\n",
    "all_elo_score_history_df[\"subject_id\"] = all_elo_score_history_df[\"subject_id\"].astype(str)\n",
    "all_elo_score_history_df[\"date\"] = all_elo_score_history_df[\"date\"].astype(str)"
   ]
  },
  {
   "cell_type": "code",
   "execution_count": 29,
   "metadata": {},
   "outputs": [],
   "source": [
    "# Changing column type to make it mergable\n",
    "RC_DISTANCE_DF[\"date\"] = RC_DISTANCE_DF[\"date\"].astype(str)\n",
    "RC_DISTANCE_DF[\"rc_trial_number\"] = RC_DISTANCE_DF[\"rc_trial_number\"].astype(float)"
   ]
  },
  {
   "cell_type": "code",
   "execution_count": 30,
   "metadata": {},
   "outputs": [],
   "source": [
    "all_elo_score_history_df = pd.merge(left=all_elo_score_history_df, right=RC_DISTANCE_DF, left_on=[\"date\", \"trial_number\", \"tuple_animal_id\", \"subject_id\"], right_on=[\"date\", \"rc_trial_number\", \"all_subj\", \"subj_id\"], how=\"outer\")"
   ]
  },
  {
   "cell_type": "code",
   "execution_count": 34,
   "metadata": {},
   "outputs": [
    {
     "data": {
      "text/plain": [
       "Index(['strain', 'experiment_type', 'date', 'cage_#', 'tuple_animal_id',\n",
       "       'subject_id', 'agent_id', 'winner', 'loser', 'win_draw_loss',\n",
       "       ...\n",
       "       'track_id', 'rc_trial_number', 'thorax_to_reward_port_baseline_slices',\n",
       "       'thorax_to_reward_port_trial_slices',\n",
       "       'scaled_coordinates_baseline_slices', 'scaled_coordinates_trial_slices',\n",
       "       'distance_between_subject_baseline_slices',\n",
       "       'distance_between_subject_trial_slices',\n",
       "       'thorax_velocity_baseline_slices', 'thorax_velocity_trial_slices'],\n",
       "      dtype='object', length=103)"
      ]
     },
     "execution_count": 34,
     "metadata": {},
     "output_type": "execute_result"
    }
   ],
   "source": [
    "all_elo_score_history_df.columns"
   ]
  },
  {
   "cell_type": "code",
   "execution_count": 38,
   "metadata": {},
   "outputs": [
    {
     "name": "stdout",
     "output_type": "stream",
     "text": [
      "strain\n",
      "experiment_type\n",
      "date\n",
      "cage_#\n",
      "tuple_animal_id\n",
      "subject_id\n",
      "agent_id\n",
      "winner\n",
      "loser\n",
      "win_draw_loss\n",
      "original_elo_rating\n",
      "updated_elo_rating\n",
      "subject_ranking\n",
      "agent_ranking\n",
      "subject_weight\n",
      "subject_percent_body_weight\n",
      "subject_amount_fed\n",
      "agent_weight\n",
      "agent_percent_body_weight\n",
      "agent_amount_fed\n",
      "pairing_index\n",
      "trial_number\n",
      "action\n",
      "left_number_of_spots\n",
      "right_number_of_spots\n",
      "spot_number_difference\n",
      "percent_difference\n",
      "hco_tuple_animal_id\n",
      "hco_winner\n",
      "hco_loser\n",
      "hco_averaged_winner\n",
      "hco_averaged_loser\n",
      "hco_averaged_winner_win_count\n",
      "hco_averaged_loser_win_count\n",
      "hco_count_difference\n",
      "hco_match_count\n",
      "hco_percent_win\n",
      "hco_percentage_tie\n",
      "rc_tuple_animal_id\n",
      "rc_winner\n",
      "rc_loser\n",
      "rc_average_number_of_switches\n",
      "rc_winner_no_ties\n",
      "rc_loser_no_ties\n",
      "rc_averaged_winner\n",
      "rc_averaged_loser\n",
      "rc_averaged_winner_win_count\n",
      "rc_averaged_loser_win_count\n",
      "rc_tie_count\n",
      "rc_all_match_count_including_ties\n",
      "rc_averaged_winner_win_count_minus_loser_win_count\n",
      "rc_win_to_win_plus_lost_ratio\n",
      "rc_win_to_all_ratio\n",
      "rc_is_win_to_win_and_loss_ratio_tie\n",
      "rc_tie_to_all_ratio\n",
      "tt_tuple_animal_id\n",
      "tt_winner\n",
      "tt_loser\n",
      "tt_averaged_winner\n",
      "tt_averaged_loser\n",
      "tt_averaged_winner_win_count\n",
      "tt_averaged_loser_win_count\n",
      "tt_count_difference\n",
      "tt_match_count\n",
      "tt_percent_win\n",
      "tt_percentage_tie\n",
      "File Name\n",
      "Frame Start\n",
      "FPS\n",
      "Strain\n",
      "file_base\n",
      "all_subj\n",
      "subj_id\n",
      "subj_index\n",
      "all_tone_frame\n",
      "corner_file\n",
      "pose_estimation_file\n",
      "corner_sleap\n",
      "box_bottom_left_coordinates\n",
      "reward_port_coordinates\n",
      "box_bottom_right_coordinates\n",
      "box_top_left_coordinates\n",
      "box_top_right_coordinates\n",
      "bottom_width\n",
      "top_width\n",
      "right_height\n",
      "left_height\n",
      "average_height\n",
      "average_width\n",
      "width_ratio\n",
      "height_ratio\n",
      "reward_port_scaled\n",
      "track_names\n",
      "track_id\n",
      "rc_trial_number\n",
      "thorax_to_reward_port_baseline_slices\n",
      "thorax_to_reward_port_trial_slices\n",
      "scaled_coordinates_baseline_slices\n",
      "scaled_coordinates_trial_slices\n",
      "distance_between_subject_baseline_slices\n",
      "distance_between_subject_trial_slices\n",
      "thorax_velocity_baseline_slices\n",
      "thorax_velocity_trial_slices\n"
     ]
    }
   ],
   "source": [
    "for col in all_elo_score_history_df.columns:\n",
    "    print(col)"
   ]
  },
  {
   "cell_type": "code",
   "execution_count": 31,
   "metadata": {},
   "outputs": [
    {
     "data": {
      "text/html": [
       "<div>\n",
       "<style scoped>\n",
       "    .dataframe tbody tr th:only-of-type {\n",
       "        vertical-align: middle;\n",
       "    }\n",
       "\n",
       "    .dataframe tbody tr th {\n",
       "        vertical-align: top;\n",
       "    }\n",
       "\n",
       "    .dataframe thead th {\n",
       "        text-align: right;\n",
       "    }\n",
       "</style>\n",
       "<table border=\"1\" class=\"dataframe\">\n",
       "  <thead>\n",
       "    <tr style=\"text-align: right;\">\n",
       "      <th></th>\n",
       "      <th>strain</th>\n",
       "      <th>experiment_type</th>\n",
       "      <th>date</th>\n",
       "      <th>cage_#</th>\n",
       "      <th>tuple_animal_id</th>\n",
       "      <th>subject_id</th>\n",
       "      <th>agent_id</th>\n",
       "      <th>winner</th>\n",
       "      <th>loser</th>\n",
       "      <th>win_draw_loss</th>\n",
       "      <th>...</th>\n",
       "      <th>track_id</th>\n",
       "      <th>rc_trial_number</th>\n",
       "      <th>thorax_to_reward_port_baseline_slices</th>\n",
       "      <th>thorax_to_reward_port_trial_slices</th>\n",
       "      <th>scaled_coordinates_baseline_slices</th>\n",
       "      <th>scaled_coordinates_trial_slices</th>\n",
       "      <th>distance_between_subject_baseline_slices</th>\n",
       "      <th>distance_between_subject_trial_slices</th>\n",
       "      <th>thorax_velocity_baseline_slices</th>\n",
       "      <th>thorax_velocity_trial_slices</th>\n",
       "    </tr>\n",
       "  </thead>\n",
       "  <tbody>\n",
       "    <tr>\n",
       "      <th>0</th>\n",
       "      <td>C57</td>\n",
       "      <td>tube_test</td>\n",
       "      <td>2022-09-06</td>\n",
       "      <td>1.0</td>\n",
       "      <td>(1.1, 1.2)</td>\n",
       "      <td>1.1</td>\n",
       "      <td>1.2</td>\n",
       "      <td>1.1</td>\n",
       "      <td>1.2</td>\n",
       "      <td>1.0</td>\n",
       "      <td>...</td>\n",
       "      <td>NaN</td>\n",
       "      <td>NaN</td>\n",
       "      <td>NaN</td>\n",
       "      <td>NaN</td>\n",
       "      <td>NaN</td>\n",
       "      <td>NaN</td>\n",
       "      <td>NaN</td>\n",
       "      <td>NaN</td>\n",
       "      <td>NaN</td>\n",
       "      <td>NaN</td>\n",
       "    </tr>\n",
       "    <tr>\n",
       "      <th>1</th>\n",
       "      <td>C57</td>\n",
       "      <td>tube_test</td>\n",
       "      <td>2022-09-06</td>\n",
       "      <td>1.0</td>\n",
       "      <td>(1.1, 1.2)</td>\n",
       "      <td>1.2</td>\n",
       "      <td>1.1</td>\n",
       "      <td>1.1</td>\n",
       "      <td>1.2</td>\n",
       "      <td>0.0</td>\n",
       "      <td>...</td>\n",
       "      <td>NaN</td>\n",
       "      <td>NaN</td>\n",
       "      <td>NaN</td>\n",
       "      <td>NaN</td>\n",
       "      <td>NaN</td>\n",
       "      <td>NaN</td>\n",
       "      <td>NaN</td>\n",
       "      <td>NaN</td>\n",
       "      <td>NaN</td>\n",
       "      <td>NaN</td>\n",
       "    </tr>\n",
       "    <tr>\n",
       "      <th>2</th>\n",
       "      <td>C57</td>\n",
       "      <td>tube_test</td>\n",
       "      <td>2022-09-06</td>\n",
       "      <td>2.0</td>\n",
       "      <td>(2.1, 2.2)</td>\n",
       "      <td>2.1</td>\n",
       "      <td>2.2</td>\n",
       "      <td>2.1</td>\n",
       "      <td>2.2</td>\n",
       "      <td>1.0</td>\n",
       "      <td>...</td>\n",
       "      <td>NaN</td>\n",
       "      <td>NaN</td>\n",
       "      <td>NaN</td>\n",
       "      <td>NaN</td>\n",
       "      <td>NaN</td>\n",
       "      <td>NaN</td>\n",
       "      <td>NaN</td>\n",
       "      <td>NaN</td>\n",
       "      <td>NaN</td>\n",
       "      <td>NaN</td>\n",
       "    </tr>\n",
       "    <tr>\n",
       "      <th>3</th>\n",
       "      <td>C57</td>\n",
       "      <td>tube_test</td>\n",
       "      <td>2022-09-06</td>\n",
       "      <td>2.0</td>\n",
       "      <td>(2.1, 2.2)</td>\n",
       "      <td>2.2</td>\n",
       "      <td>2.1</td>\n",
       "      <td>2.1</td>\n",
       "      <td>2.2</td>\n",
       "      <td>0.0</td>\n",
       "      <td>...</td>\n",
       "      <td>NaN</td>\n",
       "      <td>NaN</td>\n",
       "      <td>NaN</td>\n",
       "      <td>NaN</td>\n",
       "      <td>NaN</td>\n",
       "      <td>NaN</td>\n",
       "      <td>NaN</td>\n",
       "      <td>NaN</td>\n",
       "      <td>NaN</td>\n",
       "      <td>NaN</td>\n",
       "    </tr>\n",
       "    <tr>\n",
       "      <th>4</th>\n",
       "      <td>C57</td>\n",
       "      <td>tube_test</td>\n",
       "      <td>2022-09-06</td>\n",
       "      <td>3.0</td>\n",
       "      <td>(3.1, 3.2)</td>\n",
       "      <td>3.2</td>\n",
       "      <td>3.1</td>\n",
       "      <td>3.2</td>\n",
       "      <td>3.1</td>\n",
       "      <td>1.0</td>\n",
       "      <td>...</td>\n",
       "      <td>NaN</td>\n",
       "      <td>NaN</td>\n",
       "      <td>NaN</td>\n",
       "      <td>NaN</td>\n",
       "      <td>NaN</td>\n",
       "      <td>NaN</td>\n",
       "      <td>NaN</td>\n",
       "      <td>NaN</td>\n",
       "      <td>NaN</td>\n",
       "      <td>NaN</td>\n",
       "    </tr>\n",
       "  </tbody>\n",
       "</table>\n",
       "<p>5 rows × 103 columns</p>\n",
       "</div>"
      ],
      "text/plain": [
       "  strain experiment_type        date  cage_# tuple_animal_id subject_id  \\\n",
       "0    C57       tube_test  2022-09-06     1.0      (1.1, 1.2)        1.1   \n",
       "1    C57       tube_test  2022-09-06     1.0      (1.1, 1.2)        1.2   \n",
       "2    C57       tube_test  2022-09-06     2.0      (2.1, 2.2)        2.1   \n",
       "3    C57       tube_test  2022-09-06     2.0      (2.1, 2.2)        2.2   \n",
       "4    C57       tube_test  2022-09-06     3.0      (3.1, 3.2)        3.2   \n",
       "\n",
       "   agent_id  winner  loser  win_draw_loss  ...  track_id  rc_trial_number  \\\n",
       "0       1.2     1.1    1.2            1.0  ...       NaN              NaN   \n",
       "1       1.1     1.1    1.2            0.0  ...       NaN              NaN   \n",
       "2       2.2     2.1    2.2            1.0  ...       NaN              NaN   \n",
       "3       2.1     2.1    2.2            0.0  ...       NaN              NaN   \n",
       "4       3.1     3.2    3.1            1.0  ...       NaN              NaN   \n",
       "\n",
       "   thorax_to_reward_port_baseline_slices  thorax_to_reward_port_trial_slices  \\\n",
       "0                                    NaN                                 NaN   \n",
       "1                                    NaN                                 NaN   \n",
       "2                                    NaN                                 NaN   \n",
       "3                                    NaN                                 NaN   \n",
       "4                                    NaN                                 NaN   \n",
       "\n",
       "   scaled_coordinates_baseline_slices  scaled_coordinates_trial_slices  \\\n",
       "0                                 NaN                              NaN   \n",
       "1                                 NaN                              NaN   \n",
       "2                                 NaN                              NaN   \n",
       "3                                 NaN                              NaN   \n",
       "4                                 NaN                              NaN   \n",
       "\n",
       "   distance_between_subject_baseline_slices  \\\n",
       "0                                       NaN   \n",
       "1                                       NaN   \n",
       "2                                       NaN   \n",
       "3                                       NaN   \n",
       "4                                       NaN   \n",
       "\n",
       "   distance_between_subject_trial_slices  thorax_velocity_baseline_slices  \\\n",
       "0                                    NaN                              NaN   \n",
       "1                                    NaN                              NaN   \n",
       "2                                    NaN                              NaN   \n",
       "3                                    NaN                              NaN   \n",
       "4                                    NaN                              NaN   \n",
       "\n",
       "   thorax_velocity_trial_slices  \n",
       "0                           NaN  \n",
       "1                           NaN  \n",
       "2                           NaN  \n",
       "3                           NaN  \n",
       "4                           NaN  \n",
       "\n",
       "[5 rows x 103 columns]"
      ]
     },
     "execution_count": 31,
     "metadata": {},
     "output_type": "execute_result"
    }
   ],
   "source": [
    "all_elo_score_history_df.head()"
   ]
  },
  {
   "cell_type": "code",
   "execution_count": 32,
   "metadata": {},
   "outputs": [
    {
     "data": {
      "text/html": [
       "<div>\n",
       "<style scoped>\n",
       "    .dataframe tbody tr th:only-of-type {\n",
       "        vertical-align: middle;\n",
       "    }\n",
       "\n",
       "    .dataframe tbody tr th {\n",
       "        vertical-align: top;\n",
       "    }\n",
       "\n",
       "    .dataframe thead th {\n",
       "        text-align: right;\n",
       "    }\n",
       "</style>\n",
       "<table border=\"1\" class=\"dataframe\">\n",
       "  <thead>\n",
       "    <tr style=\"text-align: right;\">\n",
       "      <th></th>\n",
       "      <th>strain</th>\n",
       "      <th>experiment_type</th>\n",
       "      <th>date</th>\n",
       "      <th>cage_#</th>\n",
       "      <th>tuple_animal_id</th>\n",
       "      <th>subject_id</th>\n",
       "      <th>agent_id</th>\n",
       "      <th>winner</th>\n",
       "      <th>loser</th>\n",
       "      <th>win_draw_loss</th>\n",
       "      <th>...</th>\n",
       "      <th>track_id</th>\n",
       "      <th>rc_trial_number</th>\n",
       "      <th>thorax_to_reward_port_baseline_slices</th>\n",
       "      <th>thorax_to_reward_port_trial_slices</th>\n",
       "      <th>scaled_coordinates_baseline_slices</th>\n",
       "      <th>scaled_coordinates_trial_slices</th>\n",
       "      <th>distance_between_subject_baseline_slices</th>\n",
       "      <th>distance_between_subject_trial_slices</th>\n",
       "      <th>thorax_velocity_baseline_slices</th>\n",
       "      <th>thorax_velocity_trial_slices</th>\n",
       "    </tr>\n",
       "  </thead>\n",
       "  <tbody>\n",
       "    <tr>\n",
       "      <th>3723</th>\n",
       "      <td>CD1</td>\n",
       "      <td>home_cage_observation</td>\n",
       "      <td>2022-10-05</td>\n",
       "      <td>5.0</td>\n",
       "      <td>(5.1, 5.3)</td>\n",
       "      <td>5.1</td>\n",
       "      <td>5.3</td>\n",
       "      <td>5.1</td>\n",
       "      <td>5.3</td>\n",
       "      <td>1.0</td>\n",
       "      <td>...</td>\n",
       "      <td>NaN</td>\n",
       "      <td>NaN</td>\n",
       "      <td>NaN</td>\n",
       "      <td>NaN</td>\n",
       "      <td>NaN</td>\n",
       "      <td>NaN</td>\n",
       "      <td>NaN</td>\n",
       "      <td>NaN</td>\n",
       "      <td>NaN</td>\n",
       "      <td>NaN</td>\n",
       "    </tr>\n",
       "    <tr>\n",
       "      <th>3724</th>\n",
       "      <td>CD1</td>\n",
       "      <td>home_cage_observation</td>\n",
       "      <td>2022-10-05</td>\n",
       "      <td>5.0</td>\n",
       "      <td>(5.1, 5.3)</td>\n",
       "      <td>5.3</td>\n",
       "      <td>5.1</td>\n",
       "      <td>5.1</td>\n",
       "      <td>5.3</td>\n",
       "      <td>0.0</td>\n",
       "      <td>...</td>\n",
       "      <td>NaN</td>\n",
       "      <td>NaN</td>\n",
       "      <td>NaN</td>\n",
       "      <td>NaN</td>\n",
       "      <td>NaN</td>\n",
       "      <td>NaN</td>\n",
       "      <td>NaN</td>\n",
       "      <td>NaN</td>\n",
       "      <td>NaN</td>\n",
       "      <td>NaN</td>\n",
       "    </tr>\n",
       "    <tr>\n",
       "      <th>3725</th>\n",
       "      <td>CD1</td>\n",
       "      <td>home_cage_observation</td>\n",
       "      <td>2022-10-05</td>\n",
       "      <td>5.0</td>\n",
       "      <td>(5.1, 5.3)</td>\n",
       "      <td>5.3</td>\n",
       "      <td>5.1</td>\n",
       "      <td>5.1</td>\n",
       "      <td>5.3</td>\n",
       "      <td>0.0</td>\n",
       "      <td>...</td>\n",
       "      <td>NaN</td>\n",
       "      <td>NaN</td>\n",
       "      <td>NaN</td>\n",
       "      <td>NaN</td>\n",
       "      <td>NaN</td>\n",
       "      <td>NaN</td>\n",
       "      <td>NaN</td>\n",
       "      <td>NaN</td>\n",
       "      <td>NaN</td>\n",
       "      <td>NaN</td>\n",
       "    </tr>\n",
       "    <tr>\n",
       "      <th>3726</th>\n",
       "      <td>CD1</td>\n",
       "      <td>home_cage_observation</td>\n",
       "      <td>2022-10-05</td>\n",
       "      <td>5.0</td>\n",
       "      <td>(5.1, 5.3)</td>\n",
       "      <td>5.3</td>\n",
       "      <td>5.1</td>\n",
       "      <td>5.1</td>\n",
       "      <td>5.3</td>\n",
       "      <td>0.0</td>\n",
       "      <td>...</td>\n",
       "      <td>NaN</td>\n",
       "      <td>NaN</td>\n",
       "      <td>NaN</td>\n",
       "      <td>NaN</td>\n",
       "      <td>NaN</td>\n",
       "      <td>NaN</td>\n",
       "      <td>NaN</td>\n",
       "      <td>NaN</td>\n",
       "      <td>NaN</td>\n",
       "      <td>NaN</td>\n",
       "    </tr>\n",
       "    <tr>\n",
       "      <th>3727</th>\n",
       "      <td>CD1</td>\n",
       "      <td>home_cage_observation</td>\n",
       "      <td>2022-10-05</td>\n",
       "      <td>5.0</td>\n",
       "      <td>(5.1, 5.3)</td>\n",
       "      <td>5.3</td>\n",
       "      <td>5.1</td>\n",
       "      <td>5.1</td>\n",
       "      <td>5.3</td>\n",
       "      <td>0.0</td>\n",
       "      <td>...</td>\n",
       "      <td>NaN</td>\n",
       "      <td>NaN</td>\n",
       "      <td>NaN</td>\n",
       "      <td>NaN</td>\n",
       "      <td>NaN</td>\n",
       "      <td>NaN</td>\n",
       "      <td>NaN</td>\n",
       "      <td>NaN</td>\n",
       "      <td>NaN</td>\n",
       "      <td>NaN</td>\n",
       "    </tr>\n",
       "  </tbody>\n",
       "</table>\n",
       "<p>5 rows × 103 columns</p>\n",
       "</div>"
      ],
      "text/plain": [
       "     strain        experiment_type        date  cage_# tuple_animal_id  \\\n",
       "3723    CD1  home_cage_observation  2022-10-05     5.0      (5.1, 5.3)   \n",
       "3724    CD1  home_cage_observation  2022-10-05     5.0      (5.1, 5.3)   \n",
       "3725    CD1  home_cage_observation  2022-10-05     5.0      (5.1, 5.3)   \n",
       "3726    CD1  home_cage_observation  2022-10-05     5.0      (5.1, 5.3)   \n",
       "3727    CD1  home_cage_observation  2022-10-05     5.0      (5.1, 5.3)   \n",
       "\n",
       "     subject_id  agent_id  winner  loser  win_draw_loss  ...  track_id  \\\n",
       "3723        5.1       5.3     5.1    5.3            1.0  ...       NaN   \n",
       "3724        5.3       5.1     5.1    5.3            0.0  ...       NaN   \n",
       "3725        5.3       5.1     5.1    5.3            0.0  ...       NaN   \n",
       "3726        5.3       5.1     5.1    5.3            0.0  ...       NaN   \n",
       "3727        5.3       5.1     5.1    5.3            0.0  ...       NaN   \n",
       "\n",
       "      rc_trial_number  thorax_to_reward_port_baseline_slices  \\\n",
       "3723              NaN                                    NaN   \n",
       "3724              NaN                                    NaN   \n",
       "3725              NaN                                    NaN   \n",
       "3726              NaN                                    NaN   \n",
       "3727              NaN                                    NaN   \n",
       "\n",
       "      thorax_to_reward_port_trial_slices  scaled_coordinates_baseline_slices  \\\n",
       "3723                                 NaN                                 NaN   \n",
       "3724                                 NaN                                 NaN   \n",
       "3725                                 NaN                                 NaN   \n",
       "3726                                 NaN                                 NaN   \n",
       "3727                                 NaN                                 NaN   \n",
       "\n",
       "      scaled_coordinates_trial_slices  \\\n",
       "3723                              NaN   \n",
       "3724                              NaN   \n",
       "3725                              NaN   \n",
       "3726                              NaN   \n",
       "3727                              NaN   \n",
       "\n",
       "      distance_between_subject_baseline_slices  \\\n",
       "3723                                       NaN   \n",
       "3724                                       NaN   \n",
       "3725                                       NaN   \n",
       "3726                                       NaN   \n",
       "3727                                       NaN   \n",
       "\n",
       "      distance_between_subject_trial_slices  thorax_velocity_baseline_slices  \\\n",
       "3723                                    NaN                              NaN   \n",
       "3724                                    NaN                              NaN   \n",
       "3725                                    NaN                              NaN   \n",
       "3726                                    NaN                              NaN   \n",
       "3727                                    NaN                              NaN   \n",
       "\n",
       "      thorax_velocity_trial_slices  \n",
       "3723                           NaN  \n",
       "3724                           NaN  \n",
       "3725                           NaN  \n",
       "3726                           NaN  \n",
       "3727                           NaN  \n",
       "\n",
       "[5 rows x 103 columns]"
      ]
     },
     "execution_count": 32,
     "metadata": {},
     "output_type": "execute_result"
    }
   ],
   "source": [
    "all_elo_score_history_df.tail()"
   ]
  },
  {
   "cell_type": "code",
   "execution_count": 37,
   "metadata": {},
   "outputs": [
    {
     "data": {
      "text/plain": [
       "(3728, 103)"
      ]
     },
     "execution_count": 37,
     "metadata": {},
     "output_type": "execute_result"
    }
   ],
   "source": [
    "all_elo_score_history_df.shape"
   ]
  },
  {
   "cell_type": "code",
   "execution_count": 33,
   "metadata": {},
   "outputs": [],
   "source": [
    "all_elo_score_history_df.to_pickle(\"./elo_score_and_rc_distance.pkl\")"
   ]
  },
  {
   "cell_type": "markdown",
   "metadata": {
    "created_in_deepnote_cell": true,
    "deepnote_cell_type": "markdown"
   },
   "source": [
    "<a style='text-decoration:none;line-height:16px;display:flex;color:#5B5B62;padding:10px;justify-content:end;' href='https://deepnote.com?utm_source=created-in-deepnote-cell&projectId=a4490980-3f6a-4f44-80eb-ebd789a5b21f' target=\"_blank\">\n",
    "<img alt='Created in deepnote.com' style='display:inline;max-height:16px;margin:0px;margin-right:7.5px;' src='data:image/svg+xml;base64,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' > </img>\n",
    "Created in <span style='font-weight:600;margin-left:4px;'>Deepnote</span></a>"
   ]
  }
 ],
 "metadata": {
  "deepnote": {},
  "deepnote_execution_queue": [],
  "deepnote_notebook_id": "cf8fe3695d074ee7887fdf6459cbf5ce",
  "kernelspec": {
   "display_name": "Python 3 (ipykernel)",
   "language": "python",
   "name": "python3"
  },
  "language_info": {
   "codemirror_mode": {
    "name": "ipython",
    "version": 3
   },
   "file_extension": ".py",
   "mimetype": "text/x-python",
   "name": "python",
   "nbconvert_exporter": "python",
   "pygments_lexer": "ipython3",
   "version": "3.9.18"
  }
 },
 "nbformat": 4,
 "nbformat_minor": 4
}
